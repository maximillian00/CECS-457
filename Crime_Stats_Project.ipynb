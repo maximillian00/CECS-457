{
  "cells": [
    {
      "cell_type": "markdown",
      "id": "55e6b918-afac-43e8-b338-43f8ac64014f",
      "metadata": {
        "id": "55e6b918-afac-43e8-b338-43f8ac64014f"
      },
      "source": [
        "##  Deep Neural Networks Project"
      ]
    },
    {
      "cell_type": "markdown",
      "id": "1a8e066d-2849-4a6e-9c71-bb98d605ae07",
      "metadata": {
        "id": "1a8e066d-2849-4a6e-9c71-bb98d605ae07"
      },
      "source": [
        "In this project, you will be working with a real-world data set from the Las Vegas Metropolitan Police Department. The dataset  contains information about the reported incidents, including the time and location of the crime, type of incident, and number of persons involved."
      ]
    },
    {
      "cell_type": "markdown",
      "id": "9e87fac7-352a-4c39-b087-76254b5e2743",
      "metadata": {
        "id": "9e87fac7-352a-4c39-b087-76254b5e2743"
      },
      "source": [
        "The dataset is downloaded from the public docket at:\n",
        "https://opendata-lvmpd.hub.arcgis.com\n",
        "\n",
        "let's read the csv file and transform the data:"
      ]
    },
    {
      "cell_type": "code",
      "execution_count": null,
      "id": "637211a4-582f-426b-a127-c3f284463f35",
      "metadata": {
        "id": "637211a4-582f-426b-a127-c3f284463f35"
      },
      "outputs": [],
      "source": [
        "import torch\n",
        "import pandas as pd\n",
        "from torch.utils.data import DataLoader, Dataset\n",
        "import matplotlib.pyplot as plt\n",
        "import seaborn as sns\n",
        "import numpy as np\n",
        "import torch.nn as nn\n",
        "import torch.optim as op"
      ]
    },
    {
      "cell_type": "code",
      "execution_count": null,
      "id": "bcf40b02-80b6-4abc-a662-f7ed50a65181",
      "metadata": {
        "id": "bcf40b02-80b6-4abc-a662-f7ed50a65181"
      },
      "outputs": [],
      "source": [
        "orig_df = pd.read_csv('LVMPD-Stats.csv', parse_dates=['ReportedOn'])"
      ]
    },
    {
      "cell_type": "code",
      "execution_count": null,
      "id": "e1ca1d15-3955-4971-a3c4-c1a73b62edda",
      "metadata": {
        "id": "e1ca1d15-3955-4971-a3c4-c1a73b62edda"
      },
      "outputs": [],
      "source": [
        "df = pd.read_csv('LVMPD-Stats.csv', parse_dates=['ReportedOn'],\n",
        "                 usecols = ['X', 'Y', 'ReportedOn',\n",
        "                            'Area_Command','NIBRSOffenseCode',\n",
        "                            'VictimCount' ] )\n",
        "\n",
        "df['DayOfWeek'] = df['ReportedOn'].dt.day_name()\n",
        "df['Time' ]     = df['ReportedOn'].dt.hour\n",
        "df.drop(columns = 'ReportedOn', inplace=True)"
      ]
    },
    {
      "cell_type": "code",
      "execution_count": null,
      "id": "3ddc413d-ba3f-4204-bc18-7fdd4de8d221",
      "metadata": {
        "id": "3ddc413d-ba3f-4204-bc18-7fdd4de8d221"
      },
      "outputs": [],
      "source": [
        "\n",
        "df['X'] = df['X']\n",
        "df['Y'] = df['Y']\n",
        "df['Time'] = pd.factorize(df['Time'])[0]\n",
        "df['DayOfWeek'] = pd.factorize(df['DayOfWeek'])[0]\n",
        "df.Area_Command = pd.factorize(df['Area_Command'])[0]\n",
        "df.VictimCount = pd.factorize(df['VictimCount'])[0]\n",
        "df.NIBRSOffenseCode = pd.factorize(df['NIBRSOffenseCode'])[0]\n",
        "df.dropna(inplace=True)"
      ]
    },
    {
      "cell_type": "code",
      "execution_count": null,
      "id": "a9c6162f-9686-4195-818d-950a6368c686",
      "metadata": {
        "id": "a9c6162f-9686-4195-818d-950a6368c686"
      },
      "outputs": [],
      "source": [
        "df= df[['X', 'Y', 'Area_Command', 'NIBRSOffenseCode',\n",
        "       'DayOfWeek', 'Time','VictimCount']]"
      ]
    },
    {
      "cell_type": "code",
      "execution_count": null,
      "id": "a90bc78a-6d1b-4fe4-a1b0-8333aec1c851",
      "metadata": {
        "colab": {
          "base_uri": "https://localhost:8080/"
        },
        "id": "a90bc78a-6d1b-4fe4-a1b0-8333aec1c851",
        "outputId": "4f316608-b9e1-4872-9404-3ee77eaccdf2"
      },
      "outputs": [
        {
          "output_type": "execute_result",
          "data": {
            "text/plain": [
              "(275, 7)"
            ]
          },
          "metadata": {},
          "execution_count": 7
        }
      ],
      "source": [
        "df.values.shape"
      ]
    },
    {
      "cell_type": "markdown",
      "id": "651605b1-8d2c-4d3e-a09e-9aef6e550fc6",
      "metadata": {
        "id": "651605b1-8d2c-4d3e-a09e-9aef6e550fc6"
      },
      "source": [
        "# Goal\n",
        "The goal is to build a predictive model that is trained on the following data:\n",
        "* latitude and longitude (location)\n",
        "* Hour of the day\n",
        "* Day of the week\n",
        "* Area-of-command code: The police designation of the bureau of the operation.\n",
        "* Classification code for the crime committed\n",
        "  \n",
        "The predicted variable is the number of persons involved in the accident.\n"
      ]
    },
    {
      "cell_type": "markdown",
      "id": "0e54f0b8-83f9-4db9-88f9-f5a595342069",
      "metadata": {
        "id": "0e54f0b8-83f9-4db9-88f9-f5a595342069"
      },
      "source": [
        "## Task 1\n",
        "* print a few rows of the values in the dataframe ``df`` and explain what each column of data means.\n",
        "* identify the input and target variables\n",
        "* what is the range of values in each column? Do you need to scale, shift or normalize your data?\n"
      ]
    },
    {
      "cell_type": "code",
      "source": [
        "df.head()\n"
      ],
      "metadata": {
        "colab": {
          "base_uri": "https://localhost:8080/",
          "height": 206
        },
        "id": "LeFlXC--om4T",
        "outputId": "12a2176c-17ef-4c84-f96f-b2faf7a3abfa"
      },
      "id": "LeFlXC--om4T",
      "execution_count": null,
      "outputs": [
        {
          "output_type": "execute_result",
          "data": {
            "text/plain": [
              "            X          Y  Area_Command  NIBRSOffenseCode  DayOfWeek  Time  \\\n",
              "0 -115.087518  36.216702             0                 0          0     0   \n",
              "1 -115.240172  36.189693             1                 1          1     1   \n",
              "2 -115.143088  36.181329             2                 1          2     0   \n",
              "3 -115.225014  36.117633             3                 1          1     2   \n",
              "4 -115.176708  36.095967             4                 1          1     3   \n",
              "\n",
              "   VictimCount  \n",
              "0            0  \n",
              "1            0  \n",
              "2            1  \n",
              "3            2  \n",
              "4            0  "
            ],
            "text/html": [
              "\n",
              "  <div id=\"df-2b4afa2e-570c-47e6-8b11-e4bcdc6c390e\" class=\"colab-df-container\">\n",
              "    <div>\n",
              "<style scoped>\n",
              "    .dataframe tbody tr th:only-of-type {\n",
              "        vertical-align: middle;\n",
              "    }\n",
              "\n",
              "    .dataframe tbody tr th {\n",
              "        vertical-align: top;\n",
              "    }\n",
              "\n",
              "    .dataframe thead th {\n",
              "        text-align: right;\n",
              "    }\n",
              "</style>\n",
              "<table border=\"1\" class=\"dataframe\">\n",
              "  <thead>\n",
              "    <tr style=\"text-align: right;\">\n",
              "      <th></th>\n",
              "      <th>X</th>\n",
              "      <th>Y</th>\n",
              "      <th>Area_Command</th>\n",
              "      <th>NIBRSOffenseCode</th>\n",
              "      <th>DayOfWeek</th>\n",
              "      <th>Time</th>\n",
              "      <th>VictimCount</th>\n",
              "    </tr>\n",
              "  </thead>\n",
              "  <tbody>\n",
              "    <tr>\n",
              "      <th>0</th>\n",
              "      <td>-115.087518</td>\n",
              "      <td>36.216702</td>\n",
              "      <td>0</td>\n",
              "      <td>0</td>\n",
              "      <td>0</td>\n",
              "      <td>0</td>\n",
              "      <td>0</td>\n",
              "    </tr>\n",
              "    <tr>\n",
              "      <th>1</th>\n",
              "      <td>-115.240172</td>\n",
              "      <td>36.189693</td>\n",
              "      <td>1</td>\n",
              "      <td>1</td>\n",
              "      <td>1</td>\n",
              "      <td>1</td>\n",
              "      <td>0</td>\n",
              "    </tr>\n",
              "    <tr>\n",
              "      <th>2</th>\n",
              "      <td>-115.143088</td>\n",
              "      <td>36.181329</td>\n",
              "      <td>2</td>\n",
              "      <td>1</td>\n",
              "      <td>2</td>\n",
              "      <td>0</td>\n",
              "      <td>1</td>\n",
              "    </tr>\n",
              "    <tr>\n",
              "      <th>3</th>\n",
              "      <td>-115.225014</td>\n",
              "      <td>36.117633</td>\n",
              "      <td>3</td>\n",
              "      <td>1</td>\n",
              "      <td>1</td>\n",
              "      <td>2</td>\n",
              "      <td>2</td>\n",
              "    </tr>\n",
              "    <tr>\n",
              "      <th>4</th>\n",
              "      <td>-115.176708</td>\n",
              "      <td>36.095967</td>\n",
              "      <td>4</td>\n",
              "      <td>1</td>\n",
              "      <td>1</td>\n",
              "      <td>3</td>\n",
              "      <td>0</td>\n",
              "    </tr>\n",
              "  </tbody>\n",
              "</table>\n",
              "</div>\n",
              "    <div class=\"colab-df-buttons\">\n",
              "\n",
              "  <div class=\"colab-df-container\">\n",
              "    <button class=\"colab-df-convert\" onclick=\"convertToInteractive('df-2b4afa2e-570c-47e6-8b11-e4bcdc6c390e')\"\n",
              "            title=\"Convert this dataframe to an interactive table.\"\n",
              "            style=\"display:none;\">\n",
              "\n",
              "  <svg xmlns=\"http://www.w3.org/2000/svg\" height=\"24px\" viewBox=\"0 -960 960 960\">\n",
              "    <path d=\"M120-120v-720h720v720H120Zm60-500h600v-160H180v160Zm220 220h160v-160H400v160Zm0 220h160v-160H400v160ZM180-400h160v-160H180v160Zm440 0h160v-160H620v160ZM180-180h160v-160H180v160Zm440 0h160v-160H620v160Z\"/>\n",
              "  </svg>\n",
              "    </button>\n",
              "\n",
              "  <style>\n",
              "    .colab-df-container {\n",
              "      display:flex;\n",
              "      gap: 12px;\n",
              "    }\n",
              "\n",
              "    .colab-df-convert {\n",
              "      background-color: #E8F0FE;\n",
              "      border: none;\n",
              "      border-radius: 50%;\n",
              "      cursor: pointer;\n",
              "      display: none;\n",
              "      fill: #1967D2;\n",
              "      height: 32px;\n",
              "      padding: 0 0 0 0;\n",
              "      width: 32px;\n",
              "    }\n",
              "\n",
              "    .colab-df-convert:hover {\n",
              "      background-color: #E2EBFA;\n",
              "      box-shadow: 0px 1px 2px rgba(60, 64, 67, 0.3), 0px 1px 3px 1px rgba(60, 64, 67, 0.15);\n",
              "      fill: #174EA6;\n",
              "    }\n",
              "\n",
              "    .colab-df-buttons div {\n",
              "      margin-bottom: 4px;\n",
              "    }\n",
              "\n",
              "    [theme=dark] .colab-df-convert {\n",
              "      background-color: #3B4455;\n",
              "      fill: #D2E3FC;\n",
              "    }\n",
              "\n",
              "    [theme=dark] .colab-df-convert:hover {\n",
              "      background-color: #434B5C;\n",
              "      box-shadow: 0px 1px 3px 1px rgba(0, 0, 0, 0.15);\n",
              "      filter: drop-shadow(0px 1px 2px rgba(0, 0, 0, 0.3));\n",
              "      fill: #FFFFFF;\n",
              "    }\n",
              "  </style>\n",
              "\n",
              "    <script>\n",
              "      const buttonEl =\n",
              "        document.querySelector('#df-2b4afa2e-570c-47e6-8b11-e4bcdc6c390e button.colab-df-convert');\n",
              "      buttonEl.style.display =\n",
              "        google.colab.kernel.accessAllowed ? 'block' : 'none';\n",
              "\n",
              "      async function convertToInteractive(key) {\n",
              "        const element = document.querySelector('#df-2b4afa2e-570c-47e6-8b11-e4bcdc6c390e');\n",
              "        const dataTable =\n",
              "          await google.colab.kernel.invokeFunction('convertToInteractive',\n",
              "                                                    [key], {});\n",
              "        if (!dataTable) return;\n",
              "\n",
              "        const docLinkHtml = 'Like what you see? Visit the ' +\n",
              "          '<a target=\"_blank\" href=https://colab.research.google.com/notebooks/data_table.ipynb>data table notebook</a>'\n",
              "          + ' to learn more about interactive tables.';\n",
              "        element.innerHTML = '';\n",
              "        dataTable['output_type'] = 'display_data';\n",
              "        await google.colab.output.renderOutput(dataTable, element);\n",
              "        const docLink = document.createElement('div');\n",
              "        docLink.innerHTML = docLinkHtml;\n",
              "        element.appendChild(docLink);\n",
              "      }\n",
              "    </script>\n",
              "  </div>\n",
              "\n",
              "\n",
              "<div id=\"df-1d4ec28c-d7e5-4dbd-860a-d7d536425276\">\n",
              "  <button class=\"colab-df-quickchart\" onclick=\"quickchart('df-1d4ec28c-d7e5-4dbd-860a-d7d536425276')\"\n",
              "            title=\"Suggest charts.\"\n",
              "            style=\"display:none;\">\n",
              "\n",
              "<svg xmlns=\"http://www.w3.org/2000/svg\" height=\"24px\"viewBox=\"0 0 24 24\"\n",
              "     width=\"24px\">\n",
              "    <g>\n",
              "        <path d=\"M19 3H5c-1.1 0-2 .9-2 2v14c0 1.1.9 2 2 2h14c1.1 0 2-.9 2-2V5c0-1.1-.9-2-2-2zM9 17H7v-7h2v7zm4 0h-2V7h2v10zm4 0h-2v-4h2v4z\"/>\n",
              "    </g>\n",
              "</svg>\n",
              "  </button>\n",
              "\n",
              "<style>\n",
              "  .colab-df-quickchart {\n",
              "      --bg-color: #E8F0FE;\n",
              "      --fill-color: #1967D2;\n",
              "      --hover-bg-color: #E2EBFA;\n",
              "      --hover-fill-color: #174EA6;\n",
              "      --disabled-fill-color: #AAA;\n",
              "      --disabled-bg-color: #DDD;\n",
              "  }\n",
              "\n",
              "  [theme=dark] .colab-df-quickchart {\n",
              "      --bg-color: #3B4455;\n",
              "      --fill-color: #D2E3FC;\n",
              "      --hover-bg-color: #434B5C;\n",
              "      --hover-fill-color: #FFFFFF;\n",
              "      --disabled-bg-color: #3B4455;\n",
              "      --disabled-fill-color: #666;\n",
              "  }\n",
              "\n",
              "  .colab-df-quickchart {\n",
              "    background-color: var(--bg-color);\n",
              "    border: none;\n",
              "    border-radius: 50%;\n",
              "    cursor: pointer;\n",
              "    display: none;\n",
              "    fill: var(--fill-color);\n",
              "    height: 32px;\n",
              "    padding: 0;\n",
              "    width: 32px;\n",
              "  }\n",
              "\n",
              "  .colab-df-quickchart:hover {\n",
              "    background-color: var(--hover-bg-color);\n",
              "    box-shadow: 0 1px 2px rgba(60, 64, 67, 0.3), 0 1px 3px 1px rgba(60, 64, 67, 0.15);\n",
              "    fill: var(--button-hover-fill-color);\n",
              "  }\n",
              "\n",
              "  .colab-df-quickchart-complete:disabled,\n",
              "  .colab-df-quickchart-complete:disabled:hover {\n",
              "    background-color: var(--disabled-bg-color);\n",
              "    fill: var(--disabled-fill-color);\n",
              "    box-shadow: none;\n",
              "  }\n",
              "\n",
              "  .colab-df-spinner {\n",
              "    border: 2px solid var(--fill-color);\n",
              "    border-color: transparent;\n",
              "    border-bottom-color: var(--fill-color);\n",
              "    animation:\n",
              "      spin 1s steps(1) infinite;\n",
              "  }\n",
              "\n",
              "  @keyframes spin {\n",
              "    0% {\n",
              "      border-color: transparent;\n",
              "      border-bottom-color: var(--fill-color);\n",
              "      border-left-color: var(--fill-color);\n",
              "    }\n",
              "    20% {\n",
              "      border-color: transparent;\n",
              "      border-left-color: var(--fill-color);\n",
              "      border-top-color: var(--fill-color);\n",
              "    }\n",
              "    30% {\n",
              "      border-color: transparent;\n",
              "      border-left-color: var(--fill-color);\n",
              "      border-top-color: var(--fill-color);\n",
              "      border-right-color: var(--fill-color);\n",
              "    }\n",
              "    40% {\n",
              "      border-color: transparent;\n",
              "      border-right-color: var(--fill-color);\n",
              "      border-top-color: var(--fill-color);\n",
              "    }\n",
              "    60% {\n",
              "      border-color: transparent;\n",
              "      border-right-color: var(--fill-color);\n",
              "    }\n",
              "    80% {\n",
              "      border-color: transparent;\n",
              "      border-right-color: var(--fill-color);\n",
              "      border-bottom-color: var(--fill-color);\n",
              "    }\n",
              "    90% {\n",
              "      border-color: transparent;\n",
              "      border-bottom-color: var(--fill-color);\n",
              "    }\n",
              "  }\n",
              "</style>\n",
              "\n",
              "  <script>\n",
              "    async function quickchart(key) {\n",
              "      const quickchartButtonEl =\n",
              "        document.querySelector('#' + key + ' button');\n",
              "      quickchartButtonEl.disabled = true;  // To prevent multiple clicks.\n",
              "      quickchartButtonEl.classList.add('colab-df-spinner');\n",
              "      try {\n",
              "        const charts = await google.colab.kernel.invokeFunction(\n",
              "            'suggestCharts', [key], {});\n",
              "      } catch (error) {\n",
              "        console.error('Error during call to suggestCharts:', error);\n",
              "      }\n",
              "      quickchartButtonEl.classList.remove('colab-df-spinner');\n",
              "      quickchartButtonEl.classList.add('colab-df-quickchart-complete');\n",
              "    }\n",
              "    (() => {\n",
              "      let quickchartButtonEl =\n",
              "        document.querySelector('#df-1d4ec28c-d7e5-4dbd-860a-d7d536425276 button');\n",
              "      quickchartButtonEl.style.display =\n",
              "        google.colab.kernel.accessAllowed ? 'block' : 'none';\n",
              "    })();\n",
              "  </script>\n",
              "</div>\n",
              "    </div>\n",
              "  </div>\n"
            ]
          },
          "metadata": {},
          "execution_count": 8
        }
      ]
    },
    {
      "cell_type": "markdown",
      "source": [
        "The input variables are the columns X, Y, Area_Command, NIBRSOffenseCode, DayOfWeek, and Time. The target variable(s) is VictimCount.\n",
        "\n",
        "The range of the values in the columns do not seem to need any normalizing or shifting, they are all relatively close in value to each other in each respective column."
      ],
      "metadata": {
        "id": "UYJjC_ytprWr"
      },
      "id": "UYJjC_ytprWr"
    },
    {
      "cell_type": "markdown",
      "id": "5549ecc9-3c0b-4efa-9a1f-340a25a1e4be",
      "metadata": {
        "id": "5549ecc9-3c0b-4efa-9a1f-340a25a1e4be"
      },
      "source": [
        "## Task 2\n",
        "\n",
        "* Create two `DataLoader` objects for training and testing based on the input and output variables. Pick a reasonable batch size and verify the shape of data by iterating over the one dataset and printing the shape of the batched data."
      ]
    },
    {
      "cell_type": "code",
      "execution_count": null,
      "id": "00fe4287-934b-4799-9e43-c3571acfbab4",
      "metadata": {
        "colab": {
          "base_uri": "https://localhost:8080/"
        },
        "id": "00fe4287-934b-4799-9e43-c3571acfbab4",
        "outputId": "e79fada5-312a-4d5c-9695-95594e3447d2"
      },
      "outputs": [
        {
          "output_type": "stream",
          "name": "stdout",
          "text": [
            "Input data shape: (275, 6)\n",
            "Target data shape: (275, 1)\n",
            "Training Batch 1 input shape: torch.Size([64, 6]), target shape: torch.Size([64, 1])\n",
            "Training Batch 2 input shape: torch.Size([64, 6]), target shape: torch.Size([64, 1])\n",
            "Training Batch 3 input shape: torch.Size([64, 6]), target shape: torch.Size([64, 1])\n",
            "Training Batch 4 input shape: torch.Size([28, 6]), target shape: torch.Size([28, 1])\n",
            "Testing Batch 1 input shape: torch.Size([55, 6]), target shape: torch.Size([55, 1])\n"
          ]
        }
      ],
      "source": [
        "from torch.utils.data.dataset import TensorDataset\n",
        "x = df[['X', 'Y', 'Area_Command', 'NIBRSOffenseCode', 'DayOfWeek', 'Time']].values\n",
        "y = df['VictimCount'].values\n",
        "y = y.reshape(-1,1)\n",
        "\n",
        "# Checking the shape of the input and target data\n",
        "print(f\"Input data shape: {x.shape}\")\n",
        "print(f\"Target data shape: {y.shape}\")\n",
        "\n",
        "\n",
        "dataset = TensorDataset(torch.Tensor(x), torch.Tensor(y))\n",
        "\n",
        "batchSize = 64\n",
        "\n",
        "trainSize = int(0.8 * len(dataset))\n",
        "testSize = len(dataset)-trainSize\n",
        "\n",
        "train, test = torch.utils.data.random_split(dataset, [trainSize, testSize])\n",
        "\n",
        "\n",
        "trainLoader = DataLoader(train, batch_size=batchSize, shuffle=True)\n",
        "testLoader = DataLoader(test, batch_size=batchSize, shuffle=False)\n",
        "\n",
        "#Checking shapes of input and target again\n",
        "for i, (inputs, targets) in enumerate(trainLoader):\n",
        "    print(f\"Training Batch {i+1} input shape: {inputs.shape}, target shape: {targets.shape}\")\n",
        "\n",
        "for i, (inputs, targets) in enumerate(testLoader):\n",
        "    print(f\"Testing Batch {i+1} input shape: {inputs.shape}, target shape: {targets.shape}\")\n",
        "\n"
      ]
    },
    {
      "cell_type": "markdown",
      "id": "1fb6f08c-5e70-4b14-b62c-4686d9f7aace",
      "metadata": {
        "id": "1fb6f08c-5e70-4b14-b62c-4686d9f7aace"
      },
      "source": [
        "## Task 3\n",
        "In this task you will try to predict number of crime victims as a **real number**. Therefore the machine learning problem is a **regression** problem.\n",
        "\n",
        "* Define the proper loss function for this task\n",
        "* what should the size of the predicted output be?\n",
        "* explain your choice of architecture, including how many layers you will be using\n",
        "* define an optimizer for training this model, choose a proper learning rate\n",
        "* write a training loop that obtains a batch out of the  training data and calculates the forward and backward passes over the neural network. Call the optimizer to update the weights of the neural network.\n",
        "* write a for loop that continues the training over a number of epochs. At the end of each epoch, calculate the ``MSE`` error on the test data and print it.\n",
        "* is your model training well? Adjust the learning rate, hidden size of the network, and try different activation functions and number of layers to achieve the best accuracy and report it."
      ]
    },
    {
      "cell_type": "code",
      "source": [
        "#Model\n",
        "class FFNN(nn.Module):\n",
        "  def __init__ (self, input_dim, hidden_dim, output_dim):\n",
        "    super(FFNN, self).__init__()\n",
        "\n",
        "    #Sigmoid activation for the regression problem\n",
        "    self.activation = nn.Sigmoid()\n",
        "\n",
        "     #Input Layer\n",
        "    self.fc1 = nn.Linear(input_dim, hidden_dim)\n",
        "\n",
        "    #Hidden Layer\n",
        "    self.fc2 = nn.Linear(hidden_dim, hidden_dim)\n",
        "\n",
        "    #Output Layer\n",
        "    self.fc3 = nn.Linear(hidden_dim, output_dim)\n",
        "\n",
        "  def forward(self, x):\n",
        "    h1 = self.activation(self.fc1(x))\n",
        "    h2 = self.activation(self.fc2(h1))\n",
        "    out = self.fc3(h2)\n",
        "    return out\n",
        "\n",
        "\n"
      ],
      "metadata": {
        "id": "E5ewLsHwDQc4"
      },
      "id": "E5ewLsHwDQc4",
      "execution_count": null,
      "outputs": []
    },
    {
      "cell_type": "markdown",
      "source": [
        "2. The size of predicted output should be 1, because we are trying to measure the number of crime victims.\n",
        "\n",
        "3. The choice of architecture for this specific task is a feed forward neural network. I chose this because it is fairly simple to implement and we had discussed this architecture previously in class. I used the sigmoid activation function as we discussed in class as well. I used three fully connected layers for this architecture.\n"
      ],
      "metadata": {
        "id": "hDUnd-h-Ie3V"
      },
      "id": "hDUnd-h-Ie3V"
    },
    {
      "cell_type": "code",
      "source": [
        "#Hyperparameters\n",
        "input_dim = 6\n",
        "hidden_dim = 64\n",
        "output_dim =1\n",
        "epochs = 100\n",
        "\n",
        "#initializing model\n",
        "model = FFNN(input_dim, hidden_dim, output_dim)\n",
        "\n",
        "#MSE loss function for regression problem\n",
        "lossFunction = nn.MSELoss()\n",
        "\n",
        "optimizer = op.Adam(model.parameters(), lr = 0.0001)\n",
        "\n",
        "#Training Loop\n",
        "for i in range(epochs):\n",
        "  model.train()\n",
        "  for j, (inputs, targets) in enumerate(trainLoader):\n",
        "\n",
        "    #Clear gradients\n",
        "    optimizer.zero_grad()\n",
        "\n",
        "    #Get predicted outputs via forward pass\n",
        "    outputs = model(inputs)\n",
        "\n",
        "    #Calculate loss\n",
        "    loss = lossFunction(outputs, targets)\n",
        "\n",
        "    #Getting gradients via backward pass\n",
        "    loss.backward()\n",
        "\n",
        "    #Update parameters\n",
        "    optimizer.step()\n",
        "\n",
        "  #Change model to evaluation so we can test\n",
        "  model.eval()\n",
        "  test_loss_total = 0\n",
        "  with torch.no_grad():\n",
        "    #Evaluating model on test data and getting test loss\n",
        "    for inputs, targets in testLoader:\n",
        "        outputs = model(inputs)\n",
        "        test_loss = lossFunction(outputs, targets)\n",
        "        test_loss_total += test_loss.item()\n",
        "\n",
        "  #Average test loss(MSE) for given epoch\n",
        "  mse = test_loss_total / len(testLoader)\n",
        "  #Print MSE\n",
        "  print(f'Epoch {i + 1}, Loss: {loss.item()}, Test MSE: {mse:.4f}')\n",
        "\n",
        "\n",
        "\n"
      ],
      "metadata": {
        "colab": {
          "base_uri": "https://localhost:8080/"
        },
        "id": "u7zjLzOjKn7o",
        "outputId": "fd65f285-4840-48f0-b90b-7ad0bbe1bea1"
      },
      "id": "u7zjLzOjKn7o",
      "execution_count": null,
      "outputs": [
        {
          "output_type": "stream",
          "name": "stdout",
          "text": [
            "Epoch 1, Loss: 1.0160902738571167, Test MSE: 1.0033\n",
            "Epoch 2, Loss: 1.4183920621871948, Test MSE: 0.9841\n",
            "Epoch 3, Loss: 1.1539744138717651, Test MSE: 0.9661\n",
            "Epoch 4, Loss: 1.9641931056976318, Test MSE: 0.9495\n",
            "Epoch 5, Loss: 1.3225277662277222, Test MSE: 0.9340\n",
            "Epoch 6, Loss: 0.490102082490921, Test MSE: 0.9199\n",
            "Epoch 7, Loss: 0.647499144077301, Test MSE: 0.9081\n",
            "Epoch 8, Loss: 0.8464089632034302, Test MSE: 0.8969\n",
            "Epoch 9, Loss: 1.6402848958969116, Test MSE: 0.8873\n",
            "Epoch 10, Loss: 0.8352665901184082, Test MSE: 0.8782\n",
            "Epoch 11, Loss: 1.3929872512817383, Test MSE: 0.8701\n",
            "Epoch 12, Loss: 0.3989228308200836, Test MSE: 0.8630\n",
            "Epoch 13, Loss: 0.46061888337135315, Test MSE: 0.8575\n",
            "Epoch 14, Loss: 1.2272417545318604, Test MSE: 0.8527\n",
            "Epoch 15, Loss: 0.9311440587043762, Test MSE: 0.8484\n",
            "Epoch 16, Loss: 0.8570975661277771, Test MSE: 0.8445\n",
            "Epoch 17, Loss: 0.8772006034851074, Test MSE: 0.8411\n",
            "Epoch 18, Loss: 0.9322847723960876, Test MSE: 0.8383\n",
            "Epoch 19, Loss: 0.6765562295913696, Test MSE: 0.8360\n",
            "Epoch 20, Loss: 0.5871483683586121, Test MSE: 0.8342\n",
            "Epoch 21, Loss: 1.7249680757522583, Test MSE: 0.8326\n",
            "Epoch 22, Loss: 1.1380722522735596, Test MSE: 0.8313\n",
            "Epoch 23, Loss: 0.7598681449890137, Test MSE: 0.8301\n",
            "Epoch 24, Loss: 1.3335886001586914, Test MSE: 0.8291\n",
            "Epoch 25, Loss: 1.101349115371704, Test MSE: 0.8284\n",
            "Epoch 26, Loss: 1.2001680135726929, Test MSE: 0.8278\n",
            "Epoch 27, Loss: 1.7313169240951538, Test MSE: 0.8273\n",
            "Epoch 28, Loss: 0.8910160064697266, Test MSE: 0.8269\n",
            "Epoch 29, Loss: 0.5845842957496643, Test MSE: 0.8266\n",
            "Epoch 30, Loss: 0.3000939190387726, Test MSE: 0.8265\n",
            "Epoch 31, Loss: 0.4588029980659485, Test MSE: 0.8265\n",
            "Epoch 32, Loss: 0.6743813753128052, Test MSE: 0.8264\n",
            "Epoch 33, Loss: 0.3759586811065674, Test MSE: 0.8264\n",
            "Epoch 34, Loss: 0.814501941204071, Test MSE: 0.8263\n",
            "Epoch 35, Loss: 1.115783452987671, Test MSE: 0.8263\n",
            "Epoch 36, Loss: 0.9428877234458923, Test MSE: 0.8263\n",
            "Epoch 37, Loss: 0.932616651058197, Test MSE: 0.8262\n",
            "Epoch 38, Loss: 0.5337024331092834, Test MSE: 0.8262\n",
            "Epoch 39, Loss: 1.4116795063018799, Test MSE: 0.8262\n",
            "Epoch 40, Loss: 0.6442095637321472, Test MSE: 0.8262\n",
            "Epoch 41, Loss: 1.5897674560546875, Test MSE: 0.8262\n",
            "Epoch 42, Loss: 1.2951580286026, Test MSE: 0.8261\n",
            "Epoch 43, Loss: 0.6207079887390137, Test MSE: 0.8261\n",
            "Epoch 44, Loss: 0.8318511247634888, Test MSE: 0.8261\n",
            "Epoch 45, Loss: 0.8903886079788208, Test MSE: 0.8261\n",
            "Epoch 46, Loss: 0.8783922791481018, Test MSE: 0.8261\n",
            "Epoch 47, Loss: 0.6586753129959106, Test MSE: 0.8260\n",
            "Epoch 48, Loss: 0.9095929265022278, Test MSE: 0.8260\n",
            "Epoch 49, Loss: 1.0612143278121948, Test MSE: 0.8259\n",
            "Epoch 50, Loss: 0.5383349061012268, Test MSE: 0.8259\n",
            "Epoch 51, Loss: 0.7237493395805359, Test MSE: 0.8258\n",
            "Epoch 52, Loss: 0.8346008658409119, Test MSE: 0.8257\n",
            "Epoch 53, Loss: 2.003333806991577, Test MSE: 0.8257\n",
            "Epoch 54, Loss: 1.4693042039871216, Test MSE: 0.8256\n",
            "Epoch 55, Loss: 0.7577900290489197, Test MSE: 0.8255\n",
            "Epoch 56, Loss: 0.7604395747184753, Test MSE: 0.8254\n",
            "Epoch 57, Loss: 0.9716464877128601, Test MSE: 0.8253\n",
            "Epoch 58, Loss: 0.7313710451126099, Test MSE: 0.8253\n",
            "Epoch 59, Loss: 0.7066011428833008, Test MSE: 0.8251\n",
            "Epoch 60, Loss: 0.8186851143836975, Test MSE: 0.8250\n",
            "Epoch 61, Loss: 2.1120145320892334, Test MSE: 0.8249\n",
            "Epoch 62, Loss: 0.8900412321090698, Test MSE: 0.8248\n",
            "Epoch 63, Loss: 0.6737597584724426, Test MSE: 0.8246\n",
            "Epoch 64, Loss: 0.48918232321739197, Test MSE: 0.8245\n",
            "Epoch 65, Loss: 0.8782184720039368, Test MSE: 0.8244\n",
            "Epoch 66, Loss: 0.7096958160400391, Test MSE: 0.8242\n",
            "Epoch 67, Loss: 1.3352423906326294, Test MSE: 0.8239\n",
            "Epoch 68, Loss: 0.4506276547908783, Test MSE: 0.8237\n",
            "Epoch 69, Loss: 1.130306363105774, Test MSE: 0.8235\n",
            "Epoch 70, Loss: 1.2145189046859741, Test MSE: 0.8233\n",
            "Epoch 71, Loss: 0.8572773933410645, Test MSE: 0.8230\n",
            "Epoch 72, Loss: 1.1338058710098267, Test MSE: 0.8228\n",
            "Epoch 73, Loss: 0.4912568926811218, Test MSE: 0.8227\n",
            "Epoch 74, Loss: 1.127437949180603, Test MSE: 0.8225\n",
            "Epoch 75, Loss: 2.1586191654205322, Test MSE: 0.8222\n",
            "Epoch 76, Loss: 0.5931538939476013, Test MSE: 0.8221\n",
            "Epoch 77, Loss: 0.33716702461242676, Test MSE: 0.8218\n",
            "Epoch 78, Loss: 0.9748659133911133, Test MSE: 0.8215\n",
            "Epoch 79, Loss: 0.6740179061889648, Test MSE: 0.8212\n",
            "Epoch 80, Loss: 0.5473545789718628, Test MSE: 0.8209\n",
            "Epoch 81, Loss: 1.1709492206573486, Test MSE: 0.8207\n",
            "Epoch 82, Loss: 1.1135543584823608, Test MSE: 0.8205\n",
            "Epoch 83, Loss: 1.2949732542037964, Test MSE: 0.8203\n",
            "Epoch 84, Loss: 2.444443941116333, Test MSE: 0.8200\n",
            "Epoch 85, Loss: 1.6626479625701904, Test MSE: 0.8197\n",
            "Epoch 86, Loss: 0.8147098422050476, Test MSE: 0.8195\n",
            "Epoch 87, Loss: 0.8424739241600037, Test MSE: 0.8194\n",
            "Epoch 88, Loss: 1.8941489458084106, Test MSE: 0.8192\n",
            "Epoch 89, Loss: 0.9487699866294861, Test MSE: 0.8191\n",
            "Epoch 90, Loss: 2.2419092655181885, Test MSE: 0.8188\n",
            "Epoch 91, Loss: 0.8815706968307495, Test MSE: 0.8187\n",
            "Epoch 92, Loss: 0.8062968254089355, Test MSE: 0.8185\n",
            "Epoch 93, Loss: 1.6653903722763062, Test MSE: 0.8183\n",
            "Epoch 94, Loss: 0.794009804725647, Test MSE: 0.8181\n",
            "Epoch 95, Loss: 1.3021774291992188, Test MSE: 0.8177\n",
            "Epoch 96, Loss: 0.8316575288772583, Test MSE: 0.8174\n",
            "Epoch 97, Loss: 1.6951773166656494, Test MSE: 0.8171\n",
            "Epoch 98, Loss: 1.8505245447158813, Test MSE: 0.8169\n",
            "Epoch 99, Loss: 1.205175518989563, Test MSE: 0.8166\n",
            "Epoch 100, Loss: 2.0013325214385986, Test MSE: 0.8163\n"
          ]
        }
      ]
    },
    {
      "cell_type": "markdown",
      "source": [
        "The model is currently training at a decent rate. From looking at the output and the corresponding MSE's, we can see with each epoch that the MSE decreases slgihlty each epoch with some exceptions. I changed the learning rate as well as reshaped the size of the target data to match the output which is a single dimensional tensor."
      ],
      "metadata": {
        "id": "4V4y-u1PT0GQ"
      },
      "id": "4V4y-u1PT0GQ"
    },
    {
      "cell_type": "markdown",
      "id": "86e3fc70-c6ce-4589-9930-128951290e8d",
      "metadata": {
        "id": "86e3fc70-c6ce-4589-9930-128951290e8d"
      },
      "source": [
        "## Task 4\n",
        "\n",
        "In this task, you will try to predict the number of crime victims as a **class number**. Therefore the machine learning problem is a **classification** problem.\n",
        "\n",
        "* Repeat all the steps in task 3. Specifically, pay attention to the differences with regression.\n",
        "* How would you find the number of classes on the output data?\n",
        "* How is the architecture different?\n",
        "* How is the loss function different?\n",
        "* Calculate the Accuracy for test data as the number of correct classified outputs divided by the total number of test data in each epoch. Report it at the end of each epoch\n",
        "* Try a few variations of learning rate, hidden dimensions, layers, etc. What is the best accuracy that you can get?"
      ]
    },
    {
      "cell_type": "code",
      "execution_count": null,
      "id": "7d929c52-af34-4081-92cd-3463a3fc4db1",
      "metadata": {
        "id": "7d929c52-af34-4081-92cd-3463a3fc4db1",
        "colab": {
          "base_uri": "https://localhost:8080/"
        },
        "outputId": "1dc8786d-c1b6-44aa-c917-732eb83a4f6c"
      },
      "outputs": [
        {
          "output_type": "stream",
          "name": "stdout",
          "text": [
            "Epoch 1, Loss:2.198605537414551, Test Accuracy: 47.2727\n",
            "Epoch 2, Loss:1.6476110219955444, Test Accuracy: 47.2727\n",
            "Epoch 3, Loss:1.5698684453964233, Test Accuracy: 47.2727\n",
            "Epoch 4, Loss:1.3053802251815796, Test Accuracy: 47.2727\n",
            "Epoch 5, Loss:1.342839002609253, Test Accuracy: 47.2727\n",
            "Epoch 6, Loss:1.2737761735916138, Test Accuracy: 47.2727\n",
            "Epoch 7, Loss:1.1447497606277466, Test Accuracy: 47.2727\n",
            "Epoch 8, Loss:1.0930215120315552, Test Accuracy: 47.2727\n",
            "Epoch 9, Loss:1.262621283531189, Test Accuracy: 47.2727\n",
            "Epoch 10, Loss:1.310231328010559, Test Accuracy: 47.2727\n",
            "Epoch 11, Loss:1.1575076580047607, Test Accuracy: 47.2727\n",
            "Epoch 12, Loss:1.144666075706482, Test Accuracy: 47.2727\n",
            "Epoch 13, Loss:1.2126203775405884, Test Accuracy: 47.2727\n",
            "Epoch 14, Loss:1.0073469877243042, Test Accuracy: 47.2727\n",
            "Epoch 15, Loss:0.8449071049690247, Test Accuracy: 47.2727\n",
            "Epoch 16, Loss:1.1305065155029297, Test Accuracy: 47.2727\n",
            "Epoch 17, Loss:1.0635851621627808, Test Accuracy: 47.2727\n",
            "Epoch 18, Loss:1.0468366146087646, Test Accuracy: 47.2727\n",
            "Epoch 19, Loss:1.134772539138794, Test Accuracy: 47.2727\n",
            "Epoch 20, Loss:1.1138991117477417, Test Accuracy: 47.2727\n",
            "Epoch 21, Loss:0.9752997756004333, Test Accuracy: 47.2727\n",
            "Epoch 22, Loss:0.9359498023986816, Test Accuracy: 47.2727\n",
            "Epoch 23, Loss:1.006496548652649, Test Accuracy: 47.2727\n",
            "Epoch 24, Loss:1.2487766742706299, Test Accuracy: 47.2727\n",
            "Epoch 25, Loss:1.0991647243499756, Test Accuracy: 47.2727\n",
            "Epoch 26, Loss:1.1584702730178833, Test Accuracy: 47.2727\n",
            "Epoch 27, Loss:1.1094869375228882, Test Accuracy: 47.2727\n",
            "Epoch 28, Loss:1.478095293045044, Test Accuracy: 47.2727\n",
            "Epoch 29, Loss:1.009774923324585, Test Accuracy: 47.2727\n",
            "Epoch 30, Loss:1.1130620241165161, Test Accuracy: 47.2727\n",
            "Epoch 31, Loss:1.0830448865890503, Test Accuracy: 47.2727\n",
            "Epoch 32, Loss:1.0630742311477661, Test Accuracy: 47.2727\n",
            "Epoch 33, Loss:1.0322335958480835, Test Accuracy: 47.2727\n",
            "Epoch 34, Loss:1.0123893022537231, Test Accuracy: 47.2727\n",
            "Epoch 35, Loss:0.9771153330802917, Test Accuracy: 47.2727\n",
            "Epoch 36, Loss:1.040000081062317, Test Accuracy: 47.2727\n",
            "Epoch 37, Loss:1.2420241832733154, Test Accuracy: 47.2727\n",
            "Epoch 38, Loss:1.1774111986160278, Test Accuracy: 47.2727\n",
            "Epoch 39, Loss:0.9760443568229675, Test Accuracy: 47.2727\n",
            "Epoch 40, Loss:0.9007753133773804, Test Accuracy: 47.2727\n",
            "Epoch 41, Loss:0.898628830909729, Test Accuracy: 47.2727\n",
            "Epoch 42, Loss:1.30599045753479, Test Accuracy: 47.2727\n",
            "Epoch 43, Loss:1.1108062267303467, Test Accuracy: 47.2727\n",
            "Epoch 44, Loss:0.8608996272087097, Test Accuracy: 47.2727\n",
            "Epoch 45, Loss:1.1176155805587769, Test Accuracy: 47.2727\n",
            "Epoch 46, Loss:0.9896530508995056, Test Accuracy: 47.2727\n",
            "Epoch 47, Loss:0.8357415795326233, Test Accuracy: 47.2727\n",
            "Epoch 48, Loss:0.8978493809700012, Test Accuracy: 47.2727\n",
            "Epoch 49, Loss:1.0882500410079956, Test Accuracy: 47.2727\n",
            "Epoch 50, Loss:1.3167436122894287, Test Accuracy: 47.2727\n",
            "Epoch 51, Loss:0.9779146313667297, Test Accuracy: 49.0909\n",
            "Epoch 52, Loss:1.0572469234466553, Test Accuracy: 47.2727\n",
            "Epoch 53, Loss:1.2265173196792603, Test Accuracy: 47.2727\n",
            "Epoch 54, Loss:1.2122963666915894, Test Accuracy: 47.2727\n",
            "Epoch 55, Loss:0.9537049531936646, Test Accuracy: 47.2727\n",
            "Epoch 56, Loss:1.3535164594650269, Test Accuracy: 47.2727\n",
            "Epoch 57, Loss:0.9762070775032043, Test Accuracy: 47.2727\n",
            "Epoch 58, Loss:1.088200330734253, Test Accuracy: 47.2727\n",
            "Epoch 59, Loss:0.9361860156059265, Test Accuracy: 47.2727\n",
            "Epoch 60, Loss:1.1654269695281982, Test Accuracy: 47.2727\n",
            "Epoch 61, Loss:1.176600456237793, Test Accuracy: 47.2727\n",
            "Epoch 62, Loss:1.2717939615249634, Test Accuracy: 47.2727\n",
            "Epoch 63, Loss:1.1151583194732666, Test Accuracy: 47.2727\n",
            "Epoch 64, Loss:1.0577008724212646, Test Accuracy: 47.2727\n",
            "Epoch 65, Loss:1.0489484071731567, Test Accuracy: 47.2727\n",
            "Epoch 66, Loss:1.0785638093948364, Test Accuracy: 47.2727\n",
            "Epoch 67, Loss:1.3435994386672974, Test Accuracy: 47.2727\n",
            "Epoch 68, Loss:1.3090547323226929, Test Accuracy: 47.2727\n",
            "Epoch 69, Loss:1.1827987432479858, Test Accuracy: 47.2727\n",
            "Epoch 70, Loss:1.5019853115081787, Test Accuracy: 47.2727\n",
            "Epoch 71, Loss:0.9309864044189453, Test Accuracy: 47.2727\n",
            "Epoch 72, Loss:0.8815000653266907, Test Accuracy: 47.2727\n",
            "Epoch 73, Loss:0.8487370610237122, Test Accuracy: 47.2727\n",
            "Epoch 74, Loss:1.547731637954712, Test Accuracy: 47.2727\n",
            "Epoch 75, Loss:1.2585632801055908, Test Accuracy: 47.2727\n",
            "Epoch 76, Loss:0.9060836434364319, Test Accuracy: 47.2727\n",
            "Epoch 77, Loss:1.2549046277999878, Test Accuracy: 47.2727\n",
            "Epoch 78, Loss:1.3934310674667358, Test Accuracy: 47.2727\n",
            "Epoch 79, Loss:1.1437727212905884, Test Accuracy: 47.2727\n",
            "Epoch 80, Loss:0.9982610940933228, Test Accuracy: 47.2727\n",
            "Epoch 81, Loss:1.158092737197876, Test Accuracy: 47.2727\n",
            "Epoch 82, Loss:1.1234054565429688, Test Accuracy: 47.2727\n",
            "Epoch 83, Loss:1.2572451829910278, Test Accuracy: 47.2727\n",
            "Epoch 84, Loss:1.2308218479156494, Test Accuracy: 47.2727\n",
            "Epoch 85, Loss:1.1513526439666748, Test Accuracy: 50.9091\n",
            "Epoch 86, Loss:1.1374247074127197, Test Accuracy: 47.2727\n",
            "Epoch 87, Loss:1.160027265548706, Test Accuracy: 47.2727\n",
            "Epoch 88, Loss:1.4128509759902954, Test Accuracy: 47.2727\n",
            "Epoch 89, Loss:1.0160572528839111, Test Accuracy: 47.2727\n",
            "Epoch 90, Loss:1.0486299991607666, Test Accuracy: 50.9091\n",
            "Epoch 91, Loss:1.100417137145996, Test Accuracy: 47.2727\n",
            "Epoch 92, Loss:1.0207524299621582, Test Accuracy: 47.2727\n",
            "Epoch 93, Loss:1.222878098487854, Test Accuracy: 47.2727\n",
            "Epoch 94, Loss:1.1951885223388672, Test Accuracy: 47.2727\n",
            "Epoch 95, Loss:0.9550366401672363, Test Accuracy: 50.9091\n",
            "Epoch 96, Loss:1.1338664293289185, Test Accuracy: 47.2727\n",
            "Epoch 97, Loss:1.2747924327850342, Test Accuracy: 47.2727\n",
            "Epoch 98, Loss:1.0731695890426636, Test Accuracy: 47.2727\n",
            "Epoch 99, Loss:1.067002534866333, Test Accuracy: 49.0909\n",
            "Epoch 100, Loss:0.9673474431037903, Test Accuracy: 47.2727\n"
          ]
        }
      ],
      "source": [
        "#Getting number of unique classes in column VictimCount\n",
        "classes = len(np.unique(df['VictimCount']))\n",
        "\n",
        "#Converting values to type int\n",
        "y_class = df['VictimCount'].values\n",
        "y_class = y_class.astype(int)\n",
        "\n",
        "#Hyperparameters\n",
        "hidden_dim = 128\n",
        "batchSize=64\n",
        "output_dim_class = classes\n",
        "epochs_class = 100\n",
        "\n",
        "#FFNN model for this classification problem\n",
        "class FFNNClassify(nn.Module):\n",
        "  def __init__(self, input_dim, hidden_dim, output_dim):\n",
        "    super(FFNNClassify, self).__init__()\n",
        "    #self.activation = nn.Sigmoid()\n",
        "\n",
        "    #Using ReLU to see if it will yield better results\n",
        "    self.activation = nn.ReLU()\n",
        "\n",
        "    #Added a few extra hidden layers to see if it improves models efficiency\n",
        "    self.fc1 = nn.Linear(input_dim, hidden_dim)\n",
        "    self.fc2 = nn.Linear(hidden_dim, hidden_dim)\n",
        "    self.fc3 = nn.Linear(hidden_dim, hidden_dim)\n",
        "    self.fc4 = nn.Linear(hidden_dim, hidden_dim)\n",
        "    self.fc5 = nn.Linear(hidden_dim, output_dim)\n",
        "\n",
        "  def forward(self, x):\n",
        "    h1 = self.activation(self.fc1(x))\n",
        "    h2 = self.activation(self.fc2(h1))\n",
        "    h3 = self.activation(self.fc3(h2))\n",
        "    h4 =self.activation(self.fc4(h3))\n",
        "    out = self.fc5(h4)\n",
        "    return out\n",
        "\n",
        "#TensorDataset for data\n",
        "data_class = TensorDataset(torch.Tensor(x), torch.Tensor(y_class))\n",
        "\n",
        "#Initializing classification model and creating data loaders for classification\n",
        "model_class = FFNNClassify(input_dim, hidden_dim, output_dim_class)\n",
        "train_class, test_class = torch.utils.data.random_split(data_class,[trainSize, testSize])\n",
        "trainLoader_class = DataLoader(train_class, batch_size = batchSize, shuffle = True)\n",
        "testLoader_class = DataLoader(test_class, batch_size=batchSize, shuffle = False)\n",
        "\n",
        "#Using loss funtion cross entropy for classification\n",
        "lossFunction_class = nn.CrossEntropyLoss()\n",
        "optimizer_class = op.Adam(model_class.parameters(), lr =0.0001)\n",
        "\n",
        "#Model Training\n",
        "for epoch in range(epochs_class):\n",
        "    model_class.train()\n",
        "    for i, (inputs, targets) in enumerate(trainLoader_class):\n",
        "        optimizer_class.zero_grad()\n",
        "        outputs = model_class(inputs)\n",
        "        loss = lossFunction_class(outputs, targets.long())\n",
        "        loss.backward()\n",
        "        optimizer_class.step()\n",
        "\n",
        "    #Model evaluation and accuracy\n",
        "    model_class.eval()\n",
        "    total = 0\n",
        "    correct = 0\n",
        "    with torch.no_grad():\n",
        "        for inputs, targets in testLoader_class:\n",
        "            test_outputs = model_class(inputs)\n",
        "            _, predicted = torch.max(test_outputs.data, 1)\n",
        "            total += targets.size(0)\n",
        "            correct += (predicted == targets).sum().item()\n",
        "        accuracy = 100*correct / total\n",
        "        print(f'Epoch {epoch + 1}, Loss:{loss.item()}, Test Accuracy: {accuracy:.4f}')\n"
      ]
    },
    {
      "cell_type": "markdown",
      "id": "84d2a304-6197-4cd9-b31e-745f7862f213",
      "metadata": {
        "id": "84d2a304-6197-4cd9-b31e-745f7862f213"
      },
      "source": [
        "## Task 5"
      ]
    },
    {
      "cell_type": "markdown",
      "id": "d6e4ef16-d828-45e5-bd58-1c49fcfecf52",
      "metadata": {
        "id": "d6e4ef16-d828-45e5-bd58-1c49fcfecf52"
      },
      "source": [
        "### Reflect on your results\n",
        "\n",
        "* Write a paragraph about your experience with tasks 3 and 4. How do you compare the results? Which one worked better? Why?\n",
        "* Write a piece of code that finds an example of a  miss-classification. Calculate the probabilities for the output classes and plot them in a bar chart. Also, indicate what is the correct class label."
      ]
    },
    {
      "cell_type": "markdown",
      "source": [
        "My experience with task 3 and 4 was challenging to say the least. The results are a bit difficult to interpret as they are different in output and evaluation. However, I do think that the model that handled the regression problem(Task 3) worked better. I say this because the MSE shows a gradual decrease throughout the evaluation, indicating that it's accuracy was continuing to improve throughout the training period. The accuracy of classification model remained almost constant throughout showing it's accuracy did not improve throughout training. Despite numerous adjustmeants to the hyperparameters and tinkering with layers, the classification model accuracy never significantly improved.\n"
      ],
      "metadata": {
        "id": "3r3NveqaVq5g"
      },
      "id": "3r3NveqaVq5g"
    },
    {
      "cell_type": "markdown",
      "id": "5b000b0b-fa37-4f8d-8ec7-0a1e6e749424",
      "metadata": {
        "id": "5b000b0b-fa37-4f8d-8ec7-0a1e6e749424"
      },
      "source": [
        "## Task 6: Exploring the patterns in raw data\n",
        "\n",
        "* Plot the crime incidents as a `scatter` plot using the corrdinates. Use the color property of each datapoint to indicate the day of the week. Is there a pattern in the plot?\n",
        "* Now make a new scatter plot and use the color property of each datapoint to indicate the number of persons involved in the incident. Is there a pattern here?\n",
        "* use numpy (or pandas if you like) to sort the number of crimes reported by the day of the week. What days are most frequent?\n"
      ]
    },
    {
      "cell_type": "code",
      "execution_count": null,
      "id": "5b396aaf-5d1a-49cd-ae1d-b63af7e561f5",
      "metadata": {
        "id": "5b396aaf-5d1a-49cd-ae1d-b63af7e561f5",
        "colab": {
          "base_uri": "https://localhost:8080/",
          "height": 718
        },
        "outputId": "a1e59920-5845-4c55-efff-b89407aefa03"
      },
      "outputs": [
        {
          "output_type": "display_data",
          "data": {
            "text/plain": [
              "<Figure size 800x800 with 1 Axes>"
            ],
            "image/png": "[encoded data removed]"
          },
          "metadata": {}
        }
      ],
      "source": [
        "colors = {\n",
        "    0: 'red',\n",
        "    1: 'blue',\n",
        "    2: 'green',\n",
        "    3: 'orange',\n",
        "    4: 'purple',\n",
        "    5: 'brown',\n",
        "    6: 'pink'\n",
        "}\n",
        "\n",
        "plt.figure(figsize=(8,8))\n",
        "for day, color in colors.items():\n",
        "  day_of_week = df[df['DayOfWeek'] == day]\n",
        "  plt.scatter(day_of_week['X'], day_of_week['Y'], label=day, c=color, s=5)\n",
        "\n",
        "plt.title('Crime Incidents by Day of the Week')\n",
        "plt.xlabel('Longitude')\n",
        "plt.ylabel('Latitude')\n",
        "plt.legend(title='Day of Week')\n",
        "\n",
        "# Show the plot\n",
        "plt.show()\n"
      ]
    },
    {
      "cell_type": "markdown",
      "source": [
        "There is a pattern. It seems that the majority of these crimes are occuring in the Downtown Las Vegas area. It also seems that most of the crimes take place towards the end of the week/ the beginning of the weekend."
      ],
      "metadata": {
        "id": "r1ECUUezmPLq"
      },
      "id": "r1ECUUezmPLq"
    },
    {
      "cell_type": "code",
      "source": [
        "# Create a scatter plot\n",
        "plt.figure(figsize=(8, 8))  # Adjust the figure size as needed\n",
        "\n",
        "# Define a custom list of colors based on 'VictimCount'\n",
        "colors = ['red', 'blue', 'green', 'orange', 'purple', 'brown', 'pink']\n",
        "\n",
        "# Create a scatter plot with custom colors based on 'VictimCount' and add labels\n",
        "for count, color in enumerate(colors):\n",
        "    victim_df = df[df['VictimCount'] == count]\n",
        "    plt.scatter(victim_df['X'], victim_df['Y'], label=f'{count}', c=color, s=5)\n",
        "\n",
        "# Customize the plot for number of persons involved\n",
        "plt.title('Crime Incidents by Number of Persons Involved')\n",
        "plt.xlabel('Longitude')\n",
        "plt.ylabel('Latitude')\n",
        "plt.legend(title='# of Victims')\n",
        "\n",
        "plt.show()"
      ],
      "metadata": {
        "colab": {
          "base_uri": "https://localhost:8080/",
          "height": 718
        },
        "id": "aID1i4JEmPvX",
        "outputId": "65b97945-43a2-4311-cbb5-c8edc5032607"
      },
      "id": "aID1i4JEmPvX",
      "execution_count": null,
      "outputs": [
        {
          "output_type": "display_data",
          "data": {
            "text/plain": [
              "<Figure size 800x800 with 1 Axes>"
            ],
            "image/png": "[encoded data removed]"
          },
          "metadata": {}
        }
      ]
    },
    {
      "cell_type": "markdown",
      "source": [
        "By looking at this plot we can see that a very large majority of the crimes involve either 1 or 0 persons.\n"
      ],
      "metadata": {
        "id": "BDdlywvDm2P-"
      },
      "id": "BDdlywvDm2P-"
    },
    {
      "cell_type": "code",
      "source": [
        "# Group the data by 'DayOfWeek' and count the number of crimes for each day\n",
        "day_counts = df['DayOfWeek'].value_counts().reset_index()\n",
        "\n",
        "# Rename the columns for clarity\n",
        "day_counts.columns = ['DayOfWeek', 'CrimeCount']\n",
        "\n",
        "# Sort the data by the number of crimes in descending order\n",
        "sorted = day_counts.sort_values(by='CrimeCount', ascending=False)\n",
        "\n",
        "# Print the result\n",
        "print(sorted.to_string(index=False))"
      ],
      "metadata": {
        "colab": {
          "base_uri": "https://localhost:8080/"
        },
        "id": "o1-G5Oj0oK3V",
        "outputId": "1c21e812-2d44-4385-e00f-def9f0f8aea9"
      },
      "id": "o1-G5Oj0oK3V",
      "execution_count": null,
      "outputs": [
        {
          "output_type": "stream",
          "name": "stdout",
          "text": [
            " DayOfWeek  CrimeCount\n",
            "         4          51\n",
            "         3          44\n",
            "         5          43\n",
            "         0          40\n",
            "         1          37\n",
            "         2          32\n",
            "         6          28\n"
          ]
        }
      ]
    },
    {
      "cell_type": "markdown",
      "source": [
        "The most frequent days are Day 4 and Day 3."
      ],
      "metadata": {
        "id": "w4AvThyno0rq"
      },
      "id": "w4AvThyno0rq"
    }
  ],
  "metadata": {
    "kernelspec": {
      "display_name": "Python 3 (ipykernel)",
      "language": "python",
      "name": "python3"
    },
    "language_info": {
      "codemirror_mode": {
        "name": "ipython",
        "version": 3
      },
      "file_extension": ".py",
      "mimetype": "text/x-python",
      "name": "python",
      "nbconvert_exporter": "python",
      "pygments_lexer": "ipython3",
      "version": "3.11.5"
    },
    "colab": {
      "provenance": []
    }
  },
  "nbformat": 4,
  "nbformat_minor": 5
}